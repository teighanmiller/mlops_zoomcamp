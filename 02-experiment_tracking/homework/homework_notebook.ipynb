{
 "cells": [
  {
   "cell_type": "markdown",
   "id": "642395de",
   "metadata": {},
   "source": [
    "mlflow, version 2.22.0"
   ]
  },
  {
   "cell_type": "markdown",
   "id": "f5fe119c",
   "metadata": {},
   "source": [
    "4 files saved to output folder"
   ]
  },
  {
   "cell_type": "markdown",
   "id": "9dc9af5f",
   "metadata": {},
   "source": [
    "min_sample_split = 2"
   ]
  },
  {
   "cell_type": "markdown",
   "id": "6b060160",
   "metadata": {},
   "source": [
    "default-artifact-root"
   ]
  },
  {
   "cell_type": "code",
   "execution_count": 3,
   "id": "6ecbd2bf",
   "metadata": {},
   "outputs": [],
   "source": [
    "import mlflow"
   ]
  },
  {
   "cell_type": "code",
   "execution_count": 4,
   "id": "7269a0c5",
   "metadata": {},
   "outputs": [],
   "source": [
    "mlflow.set_tracking_uri(\"http://127.0.0.1:5000\")"
   ]
  },
  {
   "cell_type": "markdown",
   "id": "65d9d045",
   "metadata": {},
   "source": [
    "best loss: 5.335411"
   ]
  }
 ],
 "metadata": {
  "kernelspec": {
   "display_name": "Python 3 (ipykernel)",
   "language": "python",
   "name": "python3"
  }
 },
 "nbformat": 4,
 "nbformat_minor": 5
}
